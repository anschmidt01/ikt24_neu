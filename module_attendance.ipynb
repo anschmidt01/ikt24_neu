{
 "cells": [
  {
   "cell_type": "code",
   "execution_count": 1,
   "id": "f2293bb4-b65d-45f3-a16f-c5115bc0d77b",
   "metadata": {},
   "outputs": [
    {
     "ename": "NameError",
     "evalue": "name 'pd' is not defined",
     "output_type": "error",
     "traceback": [
      "\u001b[1;31m---------------------------------------------------------------------------\u001b[0m",
      "\u001b[1;31mNameError\u001b[0m                                 Traceback (most recent call last)",
      "Cell \u001b[1;32mIn[1], line 2\u001b[0m\n\u001b[0;32m      1\u001b[0m \u001b[38;5;66;03m# Since the cleaned file is not accessible, let's reload the original data and clean it again before proceeding\u001b[39;00m\n\u001b[1;32m----> 2\u001b[0m df_bluetooth \u001b[38;5;241m=\u001b[39m \u001b[43mpd\u001b[49m\u001b[38;5;241m.\u001b[39mread_csv(\u001b[38;5;124m'\u001b[39m\u001b[38;5;124m/mnt/data/Raum639.csv\u001b[39m\u001b[38;5;124m'\u001b[39m)\n\u001b[0;32m      4\u001b[0m \u001b[38;5;66;03m# Clean the dataset by removing missing values and ensuring proper numeric values in the 'device_count_consumer'\u001b[39;00m\n\u001b[0;32m      5\u001b[0m df_bluetooth_cleaned \u001b[38;5;241m=\u001b[39m df_bluetooth\u001b[38;5;241m.\u001b[39mdropna()\n",
      "\u001b[1;31mNameError\u001b[0m: name 'pd' is not defined"
     ]
    }
   ],
   "source": [
    "# Since the cleaned file is not accessible, let's reload the original data and clean it again before proceeding\n",
    "df_bluetooth = pd.read_csv('/mnt/data/Raum639.csv')\n",
    "\n",
    "# Clean the dataset by removing missing values and ensuring proper numeric values in the 'device_count_consumer'\n",
    "df_bluetooth_cleaned = df_bluetooth.dropna()\n",
    "\n",
    "# Convert the 'device_count_consumer' to numeric if possible, and remove rows where this conversion fails\n",
    "df_bluetooth_cleaned['device_count_consumer'] = pd.to_numeric(df_bluetooth_cleaned['device_count_consumer'], errors='coerce')\n",
    "df_bluetooth_cleaned = df_bluetooth_cleaned.dropna(subset=['device_count_consumer'])\n",
    "\n",
    "# Now convert time data into comparable formats\n",
    "df_bluetooth_cleaned['datetime'] = pd.to_datetime(df_bluetooth_cleaned['2023-12-04T12:24:00Z'])\n",
    "\n",
    "# Create the schedule based on the PDF information\n",
    "schedule = {\n",
    "    'module': ['Datenbank', 'Prog3', 'PGI', 'Prog1', 'Prog3', 'DS', 'DS', 'Prog3', 'B42', 'B42', 'B41', 'TutProg2'],\n",
    "    'time_start': ['14:00', '15:45', '09:45', '08:00', '12:15', '12:15', '14:00', '09:45', '14:00', '12:15', '09:45', '17:30'],\n",
    "    'time_end': ['15:30', '17:15', '11:15', '09:30', '13:45', '13:45', '15:30', '11:15', '15:30', '13:45', '11:15', '19:00'],\n",
    "    'date': ['2023-12-11', '2023-12-12', '2023-12-12', '2023-12-13', '2023-12-13', '2023-12-14', '2023-12-14', '2023-12-15', \n",
    "             '2023-12-15', '2023-12-15', '2023-12-16', '2023-12-17']\n",
    "}\n",
    "\n",
    "df_schedule = pd.DataFrame(schedule)\n",
    "\n",
    "# Convert the time information into datetime for comparison\n",
    "df_schedule['datetime_start'] = pd.to_datetime(df_schedule['date'] + ' ' + df_schedule['time_start'])\n",
    "df_schedule['datetime_end'] = pd.to_datetime(df_schedule['date'] + ' ' + df_schedule['time_end'])\n",
    "\n",
    "# Initialize list to store attendance data\n",
    "attendance_data = []\n",
    "\n",
    "# Loop through the schedule and calculate attendance for each module\n",
    "for index, row in df_schedule.iterrows():\n",
    "    module_attendance = df_bluetooth_cleaned[\n",
    "        (df_bluetooth_cleaned['datetime'] >= row['datetime_start']) & \n",
    "        (df_bluetooth_cleaned['datetime'] <= row['datetime_end'])\n",
    "    ]\n",
    "    \n",
    "    attendance_count = module_attendance['device_count_consumer'].sum()\n",
    "    attendance_data.append({\n",
    "        'module': row['module'],\n",
    "        'start_time': row['datetime_start'],\n",
    "        'end_time': row['datetime_end'],\n",
    "        'attendance_count': attendance_count\n",
    "    })\n",
    "\n",
    "df_attendance = pd.DataFrame(attendance_data)\n",
    "\n",
    "# Save the final attendance data to a CSV file\n",
    "output_attendance_path = '/mnt/data/module_attendance.csv'\n",
    "df_attendance.to_csv(output_attendance_path, index=False)\n",
    "\n",
    "# Display the path to the generated file\n",
    "output_attendance_path\n"
   ]
  },
  {
   "cell_type": "code",
   "execution_count": 2,
   "id": "1c575d2f-718f-4dc9-af71-ef243f0a6c8e",
   "metadata": {},
   "outputs": [
    {
     "name": "stdout",
     "output_type": "stream",
     "text": [
      "Requirement already satisfied: pandas in c:\\users\\toni\\appdata\\local\\programs\\python\\python312\\lib\\site-packages (2.2.2)\n",
      "Requirement already satisfied: matplotlib in c:\\users\\toni\\appdata\\local\\programs\\python\\python312\\lib\\site-packages (3.9.0)\n",
      "Requirement already satisfied: numpy>=1.26.0 in c:\\users\\toni\\appdata\\local\\programs\\python\\python312\\lib\\site-packages (from pandas) (1.26.4)\n",
      "Requirement already satisfied: python-dateutil>=2.8.2 in c:\\users\\toni\\appdata\\local\\programs\\python\\python312\\lib\\site-packages (from pandas) (2.9.0.post0)\n",
      "Requirement already satisfied: pytz>=2020.1 in c:\\users\\toni\\appdata\\local\\programs\\python\\python312\\lib\\site-packages (from pandas) (2024.1)\n",
      "Requirement already satisfied: tzdata>=2022.7 in c:\\users\\toni\\appdata\\local\\programs\\python\\python312\\lib\\site-packages (from pandas) (2024.1)\n",
      "Requirement already satisfied: contourpy>=1.0.1 in c:\\users\\toni\\appdata\\local\\programs\\python\\python312\\lib\\site-packages (from matplotlib) (1.2.1)\n",
      "Requirement already satisfied: cycler>=0.10 in c:\\users\\toni\\appdata\\local\\programs\\python\\python312\\lib\\site-packages (from matplotlib) (0.12.1)\n",
      "Requirement already satisfied: fonttools>=4.22.0 in c:\\users\\toni\\appdata\\local\\programs\\python\\python312\\lib\\site-packages (from matplotlib) (4.53.0)\n",
      "Requirement already satisfied: kiwisolver>=1.3.1 in c:\\users\\toni\\appdata\\local\\programs\\python\\python312\\lib\\site-packages (from matplotlib) (1.4.5)\n",
      "Requirement already satisfied: packaging>=20.0 in c:\\users\\toni\\appdata\\local\\programs\\python\\python312\\lib\\site-packages (from matplotlib) (24.0)\n",
      "Requirement already satisfied: pillow>=8 in c:\\users\\toni\\appdata\\local\\programs\\python\\python312\\lib\\site-packages (from matplotlib) (10.3.0)\n",
      "Requirement already satisfied: pyparsing>=2.3.1 in c:\\users\\toni\\appdata\\local\\programs\\python\\python312\\lib\\site-packages (from matplotlib) (3.1.2)\n",
      "Requirement already satisfied: six>=1.5 in c:\\users\\toni\\appdata\\local\\programs\\python\\python312\\lib\\site-packages (from python-dateutil>=2.8.2->pandas) (1.16.0)\n",
      "Note: you may need to restart the kernel to use updated packages.\n"
     ]
    },
    {
     "name": "stderr",
     "output_type": "stream",
     "text": [
      "\n",
      "[notice] A new release of pip is available: 24.0 -> 24.2\n",
      "[notice] To update, run: C:\\Users\\Toni\\AppData\\Local\\Programs\\Python\\Python312\\python.exe -m pip install --upgrade pip\n"
     ]
    }
   ],
   "source": [
    "pip install pandas matplotlib\n"
   ]
  },
  {
   "cell_type": "code",
   "execution_count": null,
   "id": "57d0e2e9-af98-4449-a391-491ba8cdbb95",
   "metadata": {},
   "outputs": [],
   "source": []
  },
  {
   "cell_type": "code",
   "execution_count": 3,
   "id": "3d16f64f-11d9-4e08-828e-47a363d028bd",
   "metadata": {},
   "outputs": [
    {
     "ename": "TypeError",
     "evalue": "Invalid comparison between dtype=datetime64[ns, UTC] and Timestamp",
     "output_type": "error",
     "traceback": [
      "\u001b[1;31m---------------------------------------------------------------------------\u001b[0m",
      "\u001b[1;31mTypeError\u001b[0m                                 Traceback (most recent call last)",
      "File \u001b[1;32m~\\AppData\\Local\\Programs\\Python\\Python312\\Lib\\site-packages\\pandas\\core\\arrays\\datetimelike.py:536\u001b[0m, in \u001b[0;36mDatetimeLikeArrayMixin._validate_comparison_value\u001b[1;34m(self, other)\u001b[0m\n\u001b[0;32m    535\u001b[0m \u001b[38;5;28;01mtry\u001b[39;00m:\n\u001b[1;32m--> 536\u001b[0m     \u001b[38;5;28;43mself\u001b[39;49m\u001b[38;5;241;43m.\u001b[39;49m\u001b[43m_check_compatible_with\u001b[49m\u001b[43m(\u001b[49m\u001b[43mother\u001b[49m\u001b[43m)\u001b[49m\n\u001b[0;32m    537\u001b[0m \u001b[38;5;28;01mexcept\u001b[39;00m (\u001b[38;5;167;01mTypeError\u001b[39;00m, IncompatibleFrequency) \u001b[38;5;28;01mas\u001b[39;00m err:\n\u001b[0;32m    538\u001b[0m     \u001b[38;5;66;03m# e.g. tzawareness mismatch\u001b[39;00m\n",
      "File \u001b[1;32m~\\AppData\\Local\\Programs\\Python\\Python312\\Lib\\site-packages\\pandas\\core\\arrays\\datetimes.py:540\u001b[0m, in \u001b[0;36mDatetimeArray._check_compatible_with\u001b[1;34m(self, other)\u001b[0m\n\u001b[0;32m    539\u001b[0m     \u001b[38;5;28;01mreturn\u001b[39;00m\n\u001b[1;32m--> 540\u001b[0m \u001b[38;5;28;43mself\u001b[39;49m\u001b[38;5;241;43m.\u001b[39;49m\u001b[43m_assert_tzawareness_compat\u001b[49m\u001b[43m(\u001b[49m\u001b[43mother\u001b[49m\u001b[43m)\u001b[49m\n",
      "File \u001b[1;32m~\\AppData\\Local\\Programs\\Python\\Python312\\Lib\\site-packages\\pandas\\core\\arrays\\datetimes.py:786\u001b[0m, in \u001b[0;36mDatetimeArray._assert_tzawareness_compat\u001b[1;34m(self, other)\u001b[0m\n\u001b[0;32m    785\u001b[0m \u001b[38;5;28;01melif\u001b[39;00m other_tz \u001b[38;5;129;01mis\u001b[39;00m \u001b[38;5;28;01mNone\u001b[39;00m:\n\u001b[1;32m--> 786\u001b[0m     \u001b[38;5;28;01mraise\u001b[39;00m \u001b[38;5;167;01mTypeError\u001b[39;00m(\n\u001b[0;32m    787\u001b[0m         \u001b[38;5;124m\"\u001b[39m\u001b[38;5;124mCannot compare tz-naive and tz-aware datetime-like objects\u001b[39m\u001b[38;5;124m\"\u001b[39m\n\u001b[0;32m    788\u001b[0m     )\n",
      "\u001b[1;31mTypeError\u001b[0m: Cannot compare tz-naive and tz-aware datetime-like objects",
      "\nThe above exception was the direct cause of the following exception:\n",
      "\u001b[1;31mInvalidComparison\u001b[0m                         Traceback (most recent call last)",
      "File \u001b[1;32m~\\AppData\\Local\\Programs\\Python\\Python312\\Lib\\site-packages\\pandas\\core\\arrays\\datetimelike.py:983\u001b[0m, in \u001b[0;36mDatetimeLikeArrayMixin._cmp_method\u001b[1;34m(self, other, op)\u001b[0m\n\u001b[0;32m    982\u001b[0m \u001b[38;5;28;01mtry\u001b[39;00m:\n\u001b[1;32m--> 983\u001b[0m     other \u001b[38;5;241m=\u001b[39m \u001b[38;5;28;43mself\u001b[39;49m\u001b[38;5;241;43m.\u001b[39;49m\u001b[43m_validate_comparison_value\u001b[49m\u001b[43m(\u001b[49m\u001b[43mother\u001b[49m\u001b[43m)\u001b[49m\n\u001b[0;32m    984\u001b[0m \u001b[38;5;28;01mexcept\u001b[39;00m InvalidComparison:\n",
      "File \u001b[1;32m~\\AppData\\Local\\Programs\\Python\\Python312\\Lib\\site-packages\\pandas\\core\\arrays\\datetimelike.py:539\u001b[0m, in \u001b[0;36mDatetimeLikeArrayMixin._validate_comparison_value\u001b[1;34m(self, other)\u001b[0m\n\u001b[0;32m    537\u001b[0m     \u001b[38;5;28;01mexcept\u001b[39;00m (\u001b[38;5;167;01mTypeError\u001b[39;00m, IncompatibleFrequency) \u001b[38;5;28;01mas\u001b[39;00m err:\n\u001b[0;32m    538\u001b[0m         \u001b[38;5;66;03m# e.g. tzawareness mismatch\u001b[39;00m\n\u001b[1;32m--> 539\u001b[0m         \u001b[38;5;28;01mraise\u001b[39;00m InvalidComparison(other) \u001b[38;5;28;01mfrom\u001b[39;00m \u001b[38;5;21;01merr\u001b[39;00m\n\u001b[0;32m    541\u001b[0m \u001b[38;5;28;01melif\u001b[39;00m \u001b[38;5;129;01mnot\u001b[39;00m is_list_like(other):\n",
      "\u001b[1;31mInvalidComparison\u001b[0m: 2023-12-11 14:00:00",
      "\nDuring handling of the above exception, another exception occurred:\n",
      "\u001b[1;31mTypeError\u001b[0m                                 Traceback (most recent call last)",
      "Cell \u001b[1;32mIn[3], line 28\u001b[0m\n\u001b[0;32m     25\u001b[0m \u001b[38;5;66;03m# Iterating over the schedule to calculate attendance\u001b[39;00m\n\u001b[0;32m     26\u001b[0m \u001b[38;5;28;01mfor\u001b[39;00m index, row \u001b[38;5;129;01min\u001b[39;00m df_schedule\u001b[38;5;241m.\u001b[39miterrows():\n\u001b[0;32m     27\u001b[0m     module_attendance \u001b[38;5;241m=\u001b[39m df_bluetooth[\n\u001b[1;32m---> 28\u001b[0m         (\u001b[43mdf_bluetooth\u001b[49m\u001b[43m[\u001b[49m\u001b[38;5;124;43m'\u001b[39;49m\u001b[38;5;124;43mtimestamp\u001b[39;49m\u001b[38;5;124;43m'\u001b[39;49m\u001b[43m]\u001b[49m\u001b[43m \u001b[49m\u001b[38;5;241;43m>\u001b[39;49m\u001b[38;5;241;43m=\u001b[39;49m\u001b[43m \u001b[49m\u001b[43mrow\u001b[49m\u001b[43m[\u001b[49m\u001b[38;5;124;43m'\u001b[39;49m\u001b[38;5;124;43mdatetime_start\u001b[39;49m\u001b[38;5;124;43m'\u001b[39;49m\u001b[43m]\u001b[49m) \u001b[38;5;241m&\u001b[39m \n\u001b[0;32m     29\u001b[0m         (df_bluetooth[\u001b[38;5;124m'\u001b[39m\u001b[38;5;124mtimestamp\u001b[39m\u001b[38;5;124m'\u001b[39m] \u001b[38;5;241m<\u001b[39m\u001b[38;5;241m=\u001b[39m row[\u001b[38;5;124m'\u001b[39m\u001b[38;5;124mdatetime_end\u001b[39m\u001b[38;5;124m'\u001b[39m])\n\u001b[0;32m     30\u001b[0m     ]\n\u001b[0;32m     32\u001b[0m     \u001b[38;5;66;03m# Summing the device counts during the class time\u001b[39;00m\n\u001b[0;32m     33\u001b[0m     attendance_count \u001b[38;5;241m=\u001b[39m module_attendance[\u001b[38;5;124m'\u001b[39m\u001b[38;5;124m8\u001b[39m\u001b[38;5;124m'\u001b[39m]\u001b[38;5;241m.\u001b[39msum()  \u001b[38;5;66;03m# Assuming column '8' holds the device count\u001b[39;00m\n",
      "File \u001b[1;32m~\\AppData\\Local\\Programs\\Python\\Python312\\Lib\\site-packages\\pandas\\core\\ops\\common.py:76\u001b[0m, in \u001b[0;36m_unpack_zerodim_and_defer.<locals>.new_method\u001b[1;34m(self, other)\u001b[0m\n\u001b[0;32m     72\u001b[0m             \u001b[38;5;28;01mreturn\u001b[39;00m \u001b[38;5;28mNotImplemented\u001b[39m\n\u001b[0;32m     74\u001b[0m other \u001b[38;5;241m=\u001b[39m item_from_zerodim(other)\n\u001b[1;32m---> 76\u001b[0m \u001b[38;5;28;01mreturn\u001b[39;00m \u001b[43mmethod\u001b[49m\u001b[43m(\u001b[49m\u001b[38;5;28;43mself\u001b[39;49m\u001b[43m,\u001b[49m\u001b[43m \u001b[49m\u001b[43mother\u001b[49m\u001b[43m)\u001b[49m\n",
      "File \u001b[1;32m~\\AppData\\Local\\Programs\\Python\\Python312\\Lib\\site-packages\\pandas\\core\\arraylike.py:60\u001b[0m, in \u001b[0;36mOpsMixin.__ge__\u001b[1;34m(self, other)\u001b[0m\n\u001b[0;32m     58\u001b[0m \u001b[38;5;129m@unpack_zerodim_and_defer\u001b[39m(\u001b[38;5;124m\"\u001b[39m\u001b[38;5;124m__ge__\u001b[39m\u001b[38;5;124m\"\u001b[39m)\n\u001b[0;32m     59\u001b[0m \u001b[38;5;28;01mdef\u001b[39;00m \u001b[38;5;21m__ge__\u001b[39m(\u001b[38;5;28mself\u001b[39m, other):\n\u001b[1;32m---> 60\u001b[0m     \u001b[38;5;28;01mreturn\u001b[39;00m \u001b[38;5;28;43mself\u001b[39;49m\u001b[38;5;241;43m.\u001b[39;49m\u001b[43m_cmp_method\u001b[49m\u001b[43m(\u001b[49m\u001b[43mother\u001b[49m\u001b[43m,\u001b[49m\u001b[43m \u001b[49m\u001b[43moperator\u001b[49m\u001b[38;5;241;43m.\u001b[39;49m\u001b[43mge\u001b[49m\u001b[43m)\u001b[49m\n",
      "File \u001b[1;32m~\\AppData\\Local\\Programs\\Python\\Python312\\Lib\\site-packages\\pandas\\core\\series.py:6119\u001b[0m, in \u001b[0;36mSeries._cmp_method\u001b[1;34m(self, other, op)\u001b[0m\n\u001b[0;32m   6116\u001b[0m lvalues \u001b[38;5;241m=\u001b[39m \u001b[38;5;28mself\u001b[39m\u001b[38;5;241m.\u001b[39m_values\n\u001b[0;32m   6117\u001b[0m rvalues \u001b[38;5;241m=\u001b[39m extract_array(other, extract_numpy\u001b[38;5;241m=\u001b[39m\u001b[38;5;28;01mTrue\u001b[39;00m, extract_range\u001b[38;5;241m=\u001b[39m\u001b[38;5;28;01mTrue\u001b[39;00m)\n\u001b[1;32m-> 6119\u001b[0m res_values \u001b[38;5;241m=\u001b[39m \u001b[43mops\u001b[49m\u001b[38;5;241;43m.\u001b[39;49m\u001b[43mcomparison_op\u001b[49m\u001b[43m(\u001b[49m\u001b[43mlvalues\u001b[49m\u001b[43m,\u001b[49m\u001b[43m \u001b[49m\u001b[43mrvalues\u001b[49m\u001b[43m,\u001b[49m\u001b[43m \u001b[49m\u001b[43mop\u001b[49m\u001b[43m)\u001b[49m\n\u001b[0;32m   6121\u001b[0m \u001b[38;5;28;01mreturn\u001b[39;00m \u001b[38;5;28mself\u001b[39m\u001b[38;5;241m.\u001b[39m_construct_result(res_values, name\u001b[38;5;241m=\u001b[39mres_name)\n",
      "File \u001b[1;32m~\\AppData\\Local\\Programs\\Python\\Python312\\Lib\\site-packages\\pandas\\core\\ops\\array_ops.py:330\u001b[0m, in \u001b[0;36mcomparison_op\u001b[1;34m(left, right, op)\u001b[0m\n\u001b[0;32m    321\u001b[0m         \u001b[38;5;28;01mraise\u001b[39;00m \u001b[38;5;167;01mValueError\u001b[39;00m(\n\u001b[0;32m    322\u001b[0m             \u001b[38;5;124m\"\u001b[39m\u001b[38;5;124mLengths must match to compare\u001b[39m\u001b[38;5;124m\"\u001b[39m, lvalues\u001b[38;5;241m.\u001b[39mshape, rvalues\u001b[38;5;241m.\u001b[39mshape\n\u001b[0;32m    323\u001b[0m         )\n\u001b[0;32m    325\u001b[0m \u001b[38;5;28;01mif\u001b[39;00m should_extension_dispatch(lvalues, rvalues) \u001b[38;5;129;01mor\u001b[39;00m (\n\u001b[0;32m    326\u001b[0m     (\u001b[38;5;28misinstance\u001b[39m(rvalues, (Timedelta, BaseOffset, Timestamp)) \u001b[38;5;129;01mor\u001b[39;00m right \u001b[38;5;129;01mis\u001b[39;00m NaT)\n\u001b[0;32m    327\u001b[0m     \u001b[38;5;129;01mand\u001b[39;00m lvalues\u001b[38;5;241m.\u001b[39mdtype \u001b[38;5;241m!=\u001b[39m \u001b[38;5;28mobject\u001b[39m\n\u001b[0;32m    328\u001b[0m ):\n\u001b[0;32m    329\u001b[0m     \u001b[38;5;66;03m# Call the method on lvalues\u001b[39;00m\n\u001b[1;32m--> 330\u001b[0m     res_values \u001b[38;5;241m=\u001b[39m \u001b[43mop\u001b[49m\u001b[43m(\u001b[49m\u001b[43mlvalues\u001b[49m\u001b[43m,\u001b[49m\u001b[43m \u001b[49m\u001b[43mrvalues\u001b[49m\u001b[43m)\u001b[49m\n\u001b[0;32m    332\u001b[0m \u001b[38;5;28;01melif\u001b[39;00m is_scalar(rvalues) \u001b[38;5;129;01mand\u001b[39;00m isna(rvalues):  \u001b[38;5;66;03m# TODO: but not pd.NA?\u001b[39;00m\n\u001b[0;32m    333\u001b[0m     \u001b[38;5;66;03m# numpy does not like comparisons vs None\u001b[39;00m\n\u001b[0;32m    334\u001b[0m     \u001b[38;5;28;01mif\u001b[39;00m op \u001b[38;5;129;01mis\u001b[39;00m operator\u001b[38;5;241m.\u001b[39mne:\n",
      "File \u001b[1;32m~\\AppData\\Local\\Programs\\Python\\Python312\\Lib\\site-packages\\pandas\\core\\ops\\common.py:76\u001b[0m, in \u001b[0;36m_unpack_zerodim_and_defer.<locals>.new_method\u001b[1;34m(self, other)\u001b[0m\n\u001b[0;32m     72\u001b[0m             \u001b[38;5;28;01mreturn\u001b[39;00m \u001b[38;5;28mNotImplemented\u001b[39m\n\u001b[0;32m     74\u001b[0m other \u001b[38;5;241m=\u001b[39m item_from_zerodim(other)\n\u001b[1;32m---> 76\u001b[0m \u001b[38;5;28;01mreturn\u001b[39;00m \u001b[43mmethod\u001b[49m\u001b[43m(\u001b[49m\u001b[38;5;28;43mself\u001b[39;49m\u001b[43m,\u001b[49m\u001b[43m \u001b[49m\u001b[43mother\u001b[49m\u001b[43m)\u001b[49m\n",
      "File \u001b[1;32m~\\AppData\\Local\\Programs\\Python\\Python312\\Lib\\site-packages\\pandas\\core\\arraylike.py:60\u001b[0m, in \u001b[0;36mOpsMixin.__ge__\u001b[1;34m(self, other)\u001b[0m\n\u001b[0;32m     58\u001b[0m \u001b[38;5;129m@unpack_zerodim_and_defer\u001b[39m(\u001b[38;5;124m\"\u001b[39m\u001b[38;5;124m__ge__\u001b[39m\u001b[38;5;124m\"\u001b[39m)\n\u001b[0;32m     59\u001b[0m \u001b[38;5;28;01mdef\u001b[39;00m \u001b[38;5;21m__ge__\u001b[39m(\u001b[38;5;28mself\u001b[39m, other):\n\u001b[1;32m---> 60\u001b[0m     \u001b[38;5;28;01mreturn\u001b[39;00m \u001b[38;5;28;43mself\u001b[39;49m\u001b[38;5;241;43m.\u001b[39;49m\u001b[43m_cmp_method\u001b[49m\u001b[43m(\u001b[49m\u001b[43mother\u001b[49m\u001b[43m,\u001b[49m\u001b[43m \u001b[49m\u001b[43moperator\u001b[49m\u001b[38;5;241;43m.\u001b[39;49m\u001b[43mge\u001b[49m\u001b[43m)\u001b[49m\n",
      "File \u001b[1;32m~\\AppData\\Local\\Programs\\Python\\Python312\\Lib\\site-packages\\pandas\\core\\arrays\\datetimelike.py:985\u001b[0m, in \u001b[0;36mDatetimeLikeArrayMixin._cmp_method\u001b[1;34m(self, other, op)\u001b[0m\n\u001b[0;32m    983\u001b[0m     other \u001b[38;5;241m=\u001b[39m \u001b[38;5;28mself\u001b[39m\u001b[38;5;241m.\u001b[39m_validate_comparison_value(other)\n\u001b[0;32m    984\u001b[0m \u001b[38;5;28;01mexcept\u001b[39;00m InvalidComparison:\n\u001b[1;32m--> 985\u001b[0m     \u001b[38;5;28;01mreturn\u001b[39;00m \u001b[43minvalid_comparison\u001b[49m\u001b[43m(\u001b[49m\u001b[38;5;28;43mself\u001b[39;49m\u001b[43m,\u001b[49m\u001b[43m \u001b[49m\u001b[43mother\u001b[49m\u001b[43m,\u001b[49m\u001b[43m \u001b[49m\u001b[43mop\u001b[49m\u001b[43m)\u001b[49m\n\u001b[0;32m    987\u001b[0m dtype \u001b[38;5;241m=\u001b[39m \u001b[38;5;28mgetattr\u001b[39m(other, \u001b[38;5;124m\"\u001b[39m\u001b[38;5;124mdtype\u001b[39m\u001b[38;5;124m\"\u001b[39m, \u001b[38;5;28;01mNone\u001b[39;00m)\n\u001b[0;32m    988\u001b[0m \u001b[38;5;28;01mif\u001b[39;00m is_object_dtype(dtype):\n\u001b[0;32m    989\u001b[0m     \u001b[38;5;66;03m# We have to use comp_method_OBJECT_ARRAY instead of numpy\u001b[39;00m\n\u001b[0;32m    990\u001b[0m     \u001b[38;5;66;03m#  comparison otherwise it would raise when comparing to None\u001b[39;00m\n",
      "File \u001b[1;32m~\\AppData\\Local\\Programs\\Python\\Python312\\Lib\\site-packages\\pandas\\core\\ops\\invalid.py:40\u001b[0m, in \u001b[0;36minvalid_comparison\u001b[1;34m(left, right, op)\u001b[0m\n\u001b[0;32m     38\u001b[0m \u001b[38;5;28;01melse\u001b[39;00m:\n\u001b[0;32m     39\u001b[0m     typ \u001b[38;5;241m=\u001b[39m \u001b[38;5;28mtype\u001b[39m(right)\u001b[38;5;241m.\u001b[39m\u001b[38;5;18m__name__\u001b[39m\n\u001b[1;32m---> 40\u001b[0m     \u001b[38;5;28;01mraise\u001b[39;00m \u001b[38;5;167;01mTypeError\u001b[39;00m(\u001b[38;5;124mf\u001b[39m\u001b[38;5;124m\"\u001b[39m\u001b[38;5;124mInvalid comparison between dtype=\u001b[39m\u001b[38;5;132;01m{\u001b[39;00mleft\u001b[38;5;241m.\u001b[39mdtype\u001b[38;5;132;01m}\u001b[39;00m\u001b[38;5;124m and \u001b[39m\u001b[38;5;132;01m{\u001b[39;00mtyp\u001b[38;5;132;01m}\u001b[39;00m\u001b[38;5;124m\"\u001b[39m)\n\u001b[0;32m     41\u001b[0m \u001b[38;5;28;01mreturn\u001b[39;00m res_values\n",
      "\u001b[1;31mTypeError\u001b[0m: Invalid comparison between dtype=datetime64[ns, UTC] and Timestamp"
     ]
    }
   ],
   "source": [
    "import pandas as pd\n",
    "import matplotlib.pyplot as plt\n",
    "\n",
    "# Load the Bluetooth data\n",
    "df_bluetooth = pd.read_csv('Raum639.csv')  # Replace with the actual path to your CSV file\n",
    "\n",
    "# Manually enter the schedule\n",
    "schedule = {\n",
    "    'module': ['Datenbank', 'Prog3', 'PGI', 'Prog1', 'DatenSich'],\n",
    "    'time_start': ['14:00', '15:45', '09:45', '08:00', '14:00'],\n",
    "    'time_end': ['15:30', '17:15', '11:15', '09:30', '15:30'],\n",
    "    'date': ['2023-12-11', '2023-12-12', '2023-12-13', '2023-12-14', '2023-12-11']\n",
    "}\n",
    "\n",
    "df_schedule = pd.DataFrame(schedule)\n",
    "\n",
    "# Convert time data into a comparable format\n",
    "df_bluetooth['timestamp'] = pd.to_datetime(df_bluetooth['2023-12-04T12:24:00Z'])  # Replace with the actual timestamp column name\n",
    "df_schedule['datetime_start'] = pd.to_datetime(df_schedule['date'] + ' ' + df_schedule['time_start'])\n",
    "df_schedule['datetime_end'] = pd.to_datetime(df_schedule['date'] + ' ' + df_schedule['time_end'])\n",
    "\n",
    "# Initialize an empty list to hold the attendance data for each module\n",
    "attendance_data = []\n",
    "\n",
    "# Iterating over the schedule to calculate attendance\n",
    "for index, row in df_schedule.iterrows():\n",
    "    module_attendance = df_bluetooth[\n",
    "        (df_bluetooth['timestamp'] >= row['datetime_start']) & \n",
    "        (df_bluetooth['timestamp'] <= row['datetime_end'])\n",
    "    ]\n",
    "    \n",
    "    # Summing the device counts during the class time\n",
    "    attendance_count = module_attendance['8'].sum()  # Assuming column '8' holds the device count\n",
    "    attendance_data.append({\n",
    "        'module': row['module'],\n",
    "        'attendance_count': attendance_count,\n",
    "        'time': f\"{row['time_start']} - {row['time_end']}\"\n",
    "    })\n",
    "\n",
    "# Creating a DataFrame with the attendance data\n",
    "df_attendance = pd.DataFrame(attendance_data)\n",
    "\n",
    "# Plotting the data\n",
    "plt.figure(figsize=(10, 6))\n",
    "plt.barh(df_attendance['module'], df_attendance['attendance_count'], color='lightcoral')\n",
    "\n",
    "# Adding labels and title\n",
    "plt.xlabel('Number of Attendees')\n",
    "plt.ylabel('Module')\n",
    "plt.title('Attendance per Module and Time Slot')\n",
    "\n",
    "# Adding attendance counts on the bars\n",
    "for index, value in enumerate(df_attendance['attendance_count']):\n",
    "    plt.text(value, index, str(int(value)))\n",
    "\n",
    "# Show the plot\n",
    "plt.tight_layout()\n",
    "plt.show()\n"
   ]
  },
  {
   "cell_type": "code",
   "execution_count": 5,
   "id": "3d8b3e4d-f39d-41a9-ae45-3b66bd98ef5a",
   "metadata": {},
   "outputs": [
    {
     "data": {
      "image/png": "[encoded data removed]",
      "text/plain": [
       "<Figure size 1000x600 with 1 Axes>"
      ]
     },
     "metadata": {},
     "output_type": "display_data"
    }
   ],
   "source": [
    "import pandas as pd\n",
    "import matplotlib.pyplot as plt\n",
    "\n",
    "# Load the Bluetooth data\n",
    "df_bluetooth = pd.read_csv('Raum639.csv')  # Replace with the actual path to your CSV file\n",
    "\n",
    "# Manually enter the schedule\n",
    "schedule = {\n",
    "    'module': ['Datenbank', 'Prog3', 'PGI', 'Prog1', 'DatenSich'],\n",
    "    'time_start': ['14:00', '15:45', '09:45', '08:00', '14:00'],\n",
    "    'time_end': ['15:30', '17:15', '11:15', '09:30', '15:30'],\n",
    "    'date': ['2023-12-11', '2023-12-12', '2023-12-13', '2023-12-14', '2023-12-11']\n",
    "}\n",
    "\n",
    "df_schedule = pd.DataFrame(schedule)\n",
    "\n",
    "# Convert time data into a comparable format\n",
    "df_bluetooth['timestamp'] = pd.to_datetime(df_bluetooth['2023-12-04T12:24:00Z'])  # Replace with the actual timestamp column name\n",
    "df_bluetooth['timestamp'] = df_bluetooth['timestamp'].dt.tz_localize(None)  # Remove timezone\n",
    "df_schedule['datetime_start'] = pd.to_datetime(df_schedule['date'] + ' ' + df_schedule['time_start']).dt.tz_localize(None)\n",
    "df_schedule['datetime_end'] = pd.to_datetime(df_schedule['date'] + ' ' + df_schedule['time_end']).dt.tz_localize(None)\n",
    "\n",
    "# Initialize an empty list to hold the attendance data for each module\n",
    "attendance_data = []\n",
    "\n",
    "# Iterating over the schedule to calculate attendance\n",
    "for index, row in df_schedule.iterrows():\n",
    "    module_attendance = df_bluetooth[\n",
    "        (df_bluetooth['timestamp'] >= row['datetime_start']) & \n",
    "        (df_bluetooth['timestamp'] <= row['datetime_end'])\n",
    "    ]\n",
    "    \n",
    "    # Summing the device counts during the class time\n",
    "    attendance_count = module_attendance['8'].sum()  # Assuming column '8' holds the device count\n",
    "    attendance_data.append({\n",
    "        'module': row['module'],\n",
    "        'attendance_count': attendance_count,\n",
    "        'time': f\"{row['time_start']} - {row['time_end']}\"\n",
    "    })\n",
    "\n",
    "# Creating a DataFrame with the attendance data\n",
    "df_attendance = pd.DataFrame(attendance_data)\n",
    "\n",
    "# Plotting the data\n",
    "plt.figure(figsize=(10, 6))\n",
    "plt.barh(df_attendance['module'], df_attendance['attendance_count'], color='lightcoral')\n",
    "\n",
    "# Adding labels and title\n",
    "plt.xlabel('Number of Attendees')\n",
    "plt.ylabel('Module')\n",
    "plt.title('Attendance per Module and Time Slot')\n",
    "\n",
    "# Adding attendance counts on the bars\n",
    "for index, value in enumerate(df_attendance['attendance_count']):\n",
    "    plt.text(value, index, str(int(value)))\n",
    "\n",
    "# Show the plot\n",
    "plt.tight_layout()\n",
    "plt.savefig(\"insgesamte_anzahl.png\")\n",
    "plt.show()"
   ]
  },
  {
   "cell_type": "code",
   "execution_count": 6,
   "id": "deb65dfb-f26b-48a9-8249-e89e15d35a8d",
   "metadata": {},
   "outputs": [],
   "source": [
    "df_attendance.to_csv(\"insgesamte_anzahl.csv\", index=False)"
   ]
  },
  {
   "cell_type": "code",
   "execution_count": 7,
   "id": "b6faf950-5541-4374-af0e-e900a73c6313",
   "metadata": {},
   "outputs": [
    {
     "ename": "NameError",
     "evalue": "name 'df_attendance_weekly' is not defined",
     "output_type": "error",
     "traceback": [
      "\u001b[1;31m---------------------------------------------------------------------------\u001b[0m",
      "\u001b[1;31mNameError\u001b[0m                                 Traceback (most recent call last)",
      "Cell \u001b[1;32mIn[7], line 2\u001b[0m\n\u001b[0;32m      1\u001b[0m \u001b[38;5;66;03m# Calculate total attendance for each module\u001b[39;00m\n\u001b[1;32m----> 2\u001b[0m attendance_total \u001b[38;5;241m=\u001b[39m \u001b[43mdf_attendance_weekly\u001b[49m\u001b[38;5;241m.\u001b[39mgroupby(\u001b[38;5;124m'\u001b[39m\u001b[38;5;124mmodule\u001b[39m\u001b[38;5;124m'\u001b[39m)[\u001b[38;5;124m'\u001b[39m\u001b[38;5;124mattendance_count\u001b[39m\u001b[38;5;124m'\u001b[39m]\u001b[38;5;241m.\u001b[39msum()\n\u001b[0;32m      4\u001b[0m \u001b[38;5;66;03m# Divide by 18 weeks to get the average\u001b[39;00m\n\u001b[0;32m      5\u001b[0m attendance_average \u001b[38;5;241m=\u001b[39m attendance_total \u001b[38;5;241m/\u001b[39m \u001b[38;5;241m18\u001b[39m\n",
      "\u001b[1;31mNameError\u001b[0m: name 'df_attendance_weekly' is not defined"
     ]
    }
   ],
   "source": [
    "# Calculate total attendance for each module\n",
    "attendance_total = df_attendance_weekly.groupby('module')['attendance_count'].sum()\n",
    "\n",
    "# Divide by 18 weeks to get the average\n",
    "attendance_average = attendance_total / 18\n",
    "\n",
    "# Create a DataFrame for the average attendance\n",
    "df_attendance_average = attendance_average.reset_index()\n",
    "df_attendance_average.columns = ['module', 'average_attendance']\n",
    "\n",
    "# Save the average attendance data as a CSV file\n",
    "df_attendance_average.to_csv(\"durchschnittliche_attendance.csv\", index=False)\n",
    "\n",
    "# Display the result\n",
    "print(df_attendance_average)\n"
   ]
  },
  {
   "cell_type": "code",
   "execution_count": 8,
   "id": "f96c78b4-a579-4564-a0c9-d7b74afc482a",
   "metadata": {},
   "outputs": [
    {
     "name": "stdout",
     "output_type": "stream",
     "text": [
      "      module  average_attendance\n",
      "0  DatenSich          101.666667\n",
      "1  Datenbank          101.666667\n",
      "2        PGI          121.666667\n",
      "3      Prog1           73.333333\n",
      "4      Prog3            0.000000\n"
     ]
    }
   ],
   "source": [
    "# Calculate total attendance for each module\n",
    "attendance_total = df_attendance.groupby('module')['attendance_count'].sum()\n",
    "\n",
    "# Divide by 18 weeks to get the average\n",
    "attendance_average = attendance_total / 18\n",
    "\n",
    "# Create a DataFrame for the average attendance\n",
    "df_attendance_average = attendance_average.reset_index()\n",
    "df_attendance_average.columns = ['module', 'average_attendance']\n",
    "\n",
    "# Save the average attendance data as a CSV file\n",
    "df_attendance_average.to_csv(\"durchschnittliche_attendance.csv\", index=False)\n",
    "\n",
    "# Display the result\n",
    "print(df_attendance_average)\n"
   ]
  },
  {
   "cell_type": "code",
   "execution_count": null,
   "id": "a8a083c4-b486-4578-a690-9d8538a2971f",
   "metadata": {},
   "outputs": [],
   "source": []
  }
 ],
 "metadata": {
  "kernelspec": {
   "display_name": "Python 3 (ipykernel)",
   "language": "python",
   "name": "python3"
  },
  "language_info": {
   "codemirror_mode": {
    "name": "ipython",
    "version": 3
   },
   "file_extension": ".py",
   "mimetype": "text/x-python",
   "name": "python",
   "nbconvert_exporter": "python",
   "pygments_lexer": "ipython3",
   "version": "3.12.4"
  }
 },
 "nbformat": 4,
 "nbformat_minor": 5
}
