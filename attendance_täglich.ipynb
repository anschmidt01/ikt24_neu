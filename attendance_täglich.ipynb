{
 "cells": [
  {
   "cell_type": "code",
   "execution_count": 1,
   "id": "af34de1f-68de-4f10-a6e1-8624a00e4adf",
   "metadata": {},
   "outputs": [
    {
     "name": "stdout",
     "output_type": "stream",
     "text": [
      "          day  week   module  attendance_count\n",
      "0  2023-12-04    49  Raum639             17332\n",
      "1  2023-12-05    49  Raum639             16620\n",
      "2  2023-12-06    49  Raum639             35700\n",
      "3  2023-12-07    49  Raum639             33240\n",
      "4  2023-12-08    49  Raum639             38490\n"
     ]
    }
   ],
   "source": [
    "import pandas as pd\n",
    "\n",
    "# Load the Bluetooth data from your local CSV file\n",
    "df_bluetooth = pd.read_csv('Raum639.csv')  # Replace with the actual path to your Raum639.csv file\n",
    "\n",
    "# Assuming the '2023-12-04T12:24:00Z' column represents the timestamp\n",
    "df_bluetooth['timestamp'] = pd.to_datetime(df_bluetooth['2023-12-04T12:24:00Z'])  # Replace with the correct timestamp column name\n",
    "\n",
    "# Extracting day and week information from the timestamp\n",
    "df_bluetooth['day'] = df_bluetooth['timestamp'].dt.date\n",
    "df_bluetooth['week'] = df_bluetooth['timestamp'].dt.isocalendar().week\n",
    "\n",
    "# Summing up the device counts per module for each day and each week\n",
    "attendance_data = df_bluetooth.groupby(['day', 'week', 'Raum639']).agg({\n",
    "    '8': 'sum'  # Assuming '8' is the device count column\n",
    "}).reset_index()\n",
    "\n",
    "# Renaming columns for clarity\n",
    "attendance_data.columns = ['day', 'week', 'module', 'attendance_count']\n",
    "\n",
    "# Saving the result to a CSV file\n",
    "attendance_data.to_csv('module_attendance_per_day_week.csv', index=False)\n",
    "\n",
    "# Optionally, you can display the result to check\n",
    "print(attendance_data.head())\n"
   ]
  },
  {
   "cell_type": "code",
   "execution_count": 2,
   "id": "173c84a4-6696-4a5e-b763-94838a406ffa",
   "metadata": {},
   "outputs": [
    {
     "name": "stdout",
     "output_type": "stream",
     "text": [
      "      module         day  week  attendance_count\n",
      "0  DatenSich  2023-12-08    49              2400\n",
      "1  DatenSich  2023-12-22    51              1350\n",
      "2  DatenSich  2023-12-29    52               368\n",
      "3  DatenSich  2024-01-12     2               136\n",
      "4  DatenSich  2024-01-26     4                32\n"
     ]
    }
   ],
   "source": [
    "import pandas as pd\n",
    "\n",
    "# Load the Bluetooth data from Raum639.csv\n",
    "df_bluetooth = pd.read_csv('Raum639.csv')  # Replace with the actual path to your CSV file\n",
    "\n",
    "# Convert the timestamp column to datetime format (adjust the column name if needed)\n",
    "df_bluetooth['timestamp'] = pd.to_datetime(df_bluetooth['2023-12-04T12:24:00Z'])  # Replace with actual timestamp column name\n",
    "\n",
    "# Extract day of the week and time from the timestamp\n",
    "df_bluetooth['day_of_week'] = df_bluetooth['timestamp'].dt.day_name()\n",
    "df_bluetooth['time'] = df_bluetooth['timestamp'].dt.time\n",
    "\n",
    "# Define the schedule based on the PDF (adjusted to your input)\n",
    "schedule = [\n",
    "    {'module': 'Datenbank', 'day': 'Monday', 'start_time': '14:00', 'end_time': '15:30', 'room': 'WH C 639'},\n",
    "    {'module': 'Prog3', 'day': 'Tuesday', 'start_time': '15:45', 'end_time': '17:15', 'room': 'WH C 639'},\n",
    "    {'module': 'PGI', 'day': 'Wednesday', 'start_time': '09:45', 'end_time': '11:15', 'room': 'WH C 639'},\n",
    "    {'module': 'Prog1', 'day': 'Thursday', 'start_time': '08:00', 'end_time': '09:30', 'room': 'WH C 639'},\n",
    "    {'module': 'DatenSich', 'day': 'Friday', 'start_time': '14:00', 'end_time': '15:30', 'room': 'WH C 639'},\n",
    "    # Add other entries based on the PDF details\n",
    "]\n",
    "\n",
    "# Convert the schedule times to datetime.time for comparison\n",
    "for entry in schedule:\n",
    "    entry['start_time'] = pd.to_datetime(entry['start_time']).time()\n",
    "    entry['end_time'] = pd.to_datetime(entry['end_time']).time()\n",
    "\n",
    "# Function to assign modules based on the schedule\n",
    "def assign_module(row, schedule):\n",
    "    for entry in schedule:\n",
    "        if (row['day_of_week'] == entry['day'] and \n",
    "            entry['start_time'] <= row['time'] <= entry['end_time']):\n",
    "            return entry['module']\n",
    "    return None  # Return None if no match is found\n",
    "\n",
    "# Apply the function to the Bluetooth data to assign modules\n",
    "df_bluetooth['module'] = df_bluetooth.apply(assign_module, axis=1, schedule=schedule)\n",
    "\n",
    "# Filter out rows without a module assigned (i.e., outside the class times)\n",
    "df_bluetooth = df_bluetooth.dropna(subset=['module'])\n",
    "\n",
    "# Extract day and week information\n",
    "df_bluetooth['day'] = df_bluetooth['timestamp'].dt.date\n",
    "df_bluetooth['week'] = df_bluetooth['timestamp'].dt.isocalendar().week\n",
    "\n",
    "# Group by module, day, and week to sum the device counts\n",
    "attendance_data = df_bluetooth.groupby(['module', 'day', 'week']).agg({\n",
    "    '8': 'sum'  # Assuming '8' is the device count column\n",
    "}).reset_index()\n",
    "\n",
    "# Renaming columns for clarity\n",
    "attendance_data.columns = ['module', 'day', 'week', 'attendance_count']\n",
    "\n",
    "# Save the result to a CSV file\n",
    "attendance_data.to_csv('module_attendance_per_day_week.csv', index=False)\n",
    "\n",
    "# Optionally, print the first few rows to verify\n",
    "print(attendance_data.head())\n"
   ]
  },
  {
   "cell_type": "code",
   "execution_count": null,
   "id": "afa2d6f0-7d1c-4c89-b840-bf9204b050e1",
   "metadata": {},
   "outputs": [],
   "source": []
  }
 ],
 "metadata": {
  "kernelspec": {
   "display_name": "Python 3 (ipykernel)",
   "language": "python",
   "name": "python3"
  },
  "language_info": {
   "codemirror_mode": {
    "name": "ipython",
    "version": 3
   },
   "file_extension": ".py",
   "mimetype": "text/x-python",
   "name": "python",
   "nbconvert_exporter": "python",
   "pygments_lexer": "ipython3",
   "version": "3.12.4"
  }
 },
 "nbformat": 4,
 "nbformat_minor": 5
}
